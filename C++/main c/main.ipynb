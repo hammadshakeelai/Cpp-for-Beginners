{
 "cells": [
  {
   "cell_type": "code",
   "execution_count": 2,
   "id": "e95bc56d",
   "metadata": {},
   "outputs": [
    {
     "name": "stdout",
     "output_type": "stream",
     "text": [
      "Writing main.c\n"
     ]
    }
   ],
   "source": [
    "%%file main.c\n",
    "/* write c code */\n",
    "#include <stdio.h>\n",
    "\n",
    "int main(void){\n",
    "    \n",
    "    printf(\"hello, world.\\n\");\n",
    "    \n",
    "    return 0;\n",
    "}\n"
   ]
  },
  {
   "cell_type": "code",
   "execution_count": 8,
   "id": "05dc687b",
   "metadata": {},
   "outputs": [
    {
     "name": "stdout",
     "output_type": "stream",
     "text": [
      "hello, world.\n"
     ]
    }
   ],
   "source": [
    "! ./main.exe"
   ]
  },
  {
   "cell_type": "code",
   "execution_count": 7,
   "id": "382baa9a",
   "metadata": {},
   "outputs": [
    {
     "name": "stdout",
     "output_type": "stream",
     "text": [
      "Microsoft Windows [Version 10.0.26100.4946]\n",
      "(c) Microsoft Corporation. All rights reserved.\n",
      "\n",
      "d:\\Github\\Cpp-for-Beginners\\C++\\main c>gcc main.c -o main.exe\n",
      "\n",
      "d:\\Github\\Cpp-for-Beginners\\C++\\main c>"
     ]
    }
   ],
   "source": [
    "%%cmd\n",
    "gcc main.c -o main.exe"
   ]
  }
 ],
 "metadata": {
  "kernelspec": {
   "display_name": "Python 3",
   "language": "python",
   "name": "python3"
  },
  "language_info": {
   "codemirror_mode": {
    "name": "ipython",
    "version": 3
   },
   "file_extension": ".py",
   "mimetype": "text/x-python",
   "name": "python",
   "nbconvert_exporter": "python",
   "pygments_lexer": "ipython3",
   "version": "3.13.7"
  }
 },
 "nbformat": 4,
 "nbformat_minor": 5
}
