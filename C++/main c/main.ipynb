{
 "cells": [
  {
   "cell_type": "code",
   "execution_count": 2,
   "id": "e95bc56d",
   "metadata": {},
   "outputs": [
    {
     "name": "stdout",
     "output_type": "stream",
     "text": [
      "Writing main.c\n"
     ]
    }
   ],
   "source": [
    "%%file main.c\n",
    "/* write c code */\n",
    "#include <stdio.h>\n",
    "\n",
    "int main(void){\n",
    "    \n",
    "    printf(\"hello, world.\\n\");\n",
    "    \n",
    "    return 0;\n",
    "}\n"
   ]
  },
  {
   "cell_type": "code",
   "execution_count": 8,
   "id": "05dc687b",
   "metadata": {},
   "outputs": [
    {
     "name": "stdout",
     "output_type": "stream",
     "text": [
      "hello, world.\n"
     ]
    }
   ],
   "source": [
    "! ./main.exe"
   ]
  },
  {
   "cell_type": "code",
   "execution_count": 7,
   "id": "382baa9a",
   "metadata": {},
   "outputs": [
    {
     "name": "stdout",
     "output_type": "stream",
     "text": [
      "Microsoft Windows [Version 10.0.26100.4946]\n",
      "(c) Microsoft Corporation. All rights reserved.\n",
      "\n",
      "d:\\Github\\Cpp-for-Beginners\\C++\\main c>gcc main.c -o main.exe\n",
      "\n",
      "d:\\Github\\Cpp-for-Beginners\\C++\\main c>"
     ]
    }
   ],
   "source": [
    "%%cmd\n",
    "gcc main.c -o main.exe"
   ]
  },
  {
   "cell_type": "markdown",
   "id": "a89efe29",
   "metadata": {},
   "source": [
    "or"
   ]
  },
  {
   "cell_type": "code",
   "execution_count": null,
   "id": "c3e6bfc4",
   "metadata": {},
   "outputs": [],
   "source": [
    "!gcc main.c -o main\n",
    "! ./main"
   ]
  },
  {
   "cell_type": "markdown",
   "id": "eef3d260",
   "metadata": {},
   "source": [
    "include extra file like"
   ]
  },
  {
   "cell_type": "code",
   "execution_count": null,
   "id": "07f62397",
   "metadata": {},
   "outputs": [],
   "source": [
    "!gcc main.c extrafile.c -o main\n",
    "! ./main"
   ]
  }
 ],
 "metadata": {
  "kernelspec": {
   "display_name": "Python 3",
   "language": "python",
   "name": "python3"
  },
  "language_info": {
   "codemirror_mode": {
    "name": "ipython",
    "version": 3
   },
   "file_extension": ".py",
   "mimetype": "text/x-python",
   "name": "python",
   "nbconvert_exporter": "python",
   "pygments_lexer": "ipython3",
   "version": "3.13.7"
  }
 },
 "nbformat": 4,
 "nbformat_minor": 5
}
