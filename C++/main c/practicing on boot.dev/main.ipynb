{
 "cells": [
  {
   "cell_type": "markdown",
   "id": "46e39f22",
   "metadata": {},
   "source": [
    "# **C PROGRAMMING LANGUAGE**\n",
    "<hr>"
   ]
  },
  {
   "cell_type": "markdown",
   "id": "4860c1dd",
   "metadata": {},
   "source": [
    "C programming language is Procedural Oriented High Level, Fats Language Used Globally for C coding also  one of the first and Corner stone of all programming and programming languages"
   ]
  },
  {
   "cell_type": "code",
   "execution_count": null,
   "id": "fa292f0a",
   "metadata": {},
   "outputs": [],
   "source": [
    "bool\n",
    "char\n",
    "int\n",
    "float \n",
    "double\n",
    "size_t\n",
    "char*"
   ]
  },
  {
   "cell_type": "code",
   "execution_count": null,
   "id": "795c0626",
   "metadata": {},
   "outputs": [
    {
     "name": "stdout",
     "output_type": "stream",
     "text": [
      "Writing main.c\n"
     ]
    }
   ],
   "source": [
    "%%file main.c\n",
    "#include <stdio.h>\n",
    "\n",
    "int main() {\n",
    "  int max_recursive_calls = 100; // %d replace an in \n",
    "  char io_mode = 'w'; // %c to replace a char \n",
    "  float throttle_speed = 0.2; // %f to replace a float\n",
    "\n",
    "  printf(\"Max recursive calls: %d\\n\", max_recursive_calls);\n",
    "  printf(\"IO mode: %c\\n\", io_mode);\n",
    "  printf(\"Throttle speed: %f\\n\", throttle_speed);\n",
    "  return 0;\n",
    "}\n"
   ]
  },
  {
   "cell_type": "code",
   "execution_count": null,
   "id": "cc2ca3c4",
   "metadata": {
    "vscode": {
     "languageId": "bat"
    }
   },
   "outputs": [
    {
     "name": "stdout",
     "output_type": "stream",
     "text": [
      "Max recursive calls: 100\n",
      "IO mode: w\n",
      "Throttle speed: 0.200000\n"
     ]
    }
   ],
   "source": [
    "!gcc main.c -o main\n",
    "! ./main"
   ]
  },
  {
   "cell_type": "code",
   "execution_count": null,
   "id": "6299df24",
   "metadata": {},
   "outputs": [
    {
     "name": "stdout",
     "output_type": "stream",
     "text": [
      "Overwriting main.c\n"
     ]
    }
   ],
   "source": [
    "%%file main.c\n",
    "#include <stdio.h>\n",
    "\n",
    "int main() {\n",
    "  char* will_never_hear_again =\n",
    "      \"Hey TJ, when is the memory course in C gonna be done?\";\n",
    "\n",
    "  printf(\"%s\\n\", will_never_hear_again); //%s to replace a string\n",
    "  return 0;\n",
    "}"
   ]
  },
  {
   "cell_type": "code",
   "execution_count": null,
   "id": "587f2b4b",
   "metadata": {
    "vscode": {
     "languageId": "bat"
    }
   },
   "outputs": [
    {
     "name": "stdout",
     "output_type": "stream",
     "text": [
      "Hey TJ, when is the memory course in C gonna be done?\n"
     ]
    }
   ],
   "source": [
    "!gcc main.c -o main\n",
    "! ./main"
   ]
  },
  {
   "cell_type": "code",
   "execution_count": null,
   "id": "b74cbb2d",
   "metadata": {},
   "outputs": [],
   "source": [
    "#include <stdio.h>\n",
    "\n",
    "int main() {\n",
    "  int computer_default_max_threads = 8;\n",
    "  char computer_default_perms = 'r';\n",
    "  float computer_default_pi = 3.141592;\n",
    "  char *computer_title = \"computer\";\n",
    "  // don't touch above this line\n",
    "\n",
    "  printf(\"Default max threads: %d \\n\",computer_default_max_threads);\n",
    "  printf(\"Custom perms: %c \\n\",computer_default_perms);\n",
    "  printf(\"Constant pi value: %f \\n\", computer_default_pi);\n",
    "  printf(\"computer title: %s \\n\",computer_title);\n",
    "\n",
    "  return 0;\n",
    "}"
   ]
  },
  {
   "cell_type": "code",
   "execution_count": null,
   "id": "5ba3341a",
   "metadata": {},
   "outputs": [],
   "source": [
    "#include <stdio.h>\n",
    "\n",
    "int main() {\n",
    "  int computer_int_size = 64;\n",
    "  computer_int_size = 32;\n",
    "  printf(\"computer int size: %d bits\\n\", computer_int_size);\n",
    "  return 0;\n",
    "}"
   ]
  },
  {
   "cell_type": "code",
   "execution_count": null,
   "id": "fc09a5c2",
   "metadata": {},
   "outputs": [],
   "source": [
    "int main() {\n",
    "    int x = 5;\n",
    "    x = 10; // this is ok\n",
    "}"
   ]
  },
  {
   "cell_type": "code",
   "execution_count": null,
   "id": "7f8af177",
   "metadata": {},
   "outputs": [],
   "source": [
    "int main() {\n",
    "    const int x = 5;\n",
    "    x = 10; // error\n",
    "}"
   ]
  },
  {
   "cell_type": "code",
   "execution_count": null,
   "id": "f7b02a43",
   "metadata": {},
   "outputs": [],
   "source": [
    "#include <stdio.h>\n",
    "int max_python_memory(int threads, int memory_per_thread){\n",
    "  return threads*memory_per_thread;\n",
    "}\n",
    "\n",
    "int init_python(int max_threads, int memory_per_thread) {\n",
    "  printf(\"Initializing python\\n\");\n",
    "  printf(\"Max threads: %d\\n\", max_threads);\n",
    "  printf(\"Memory per thread: %d\\n\", memory_per_thread);\n",
    "  int max_memory = max_python_memory(max_threads, memory_per_thread);\n",
    "  printf(\"Max memory: %d\\n\", max_memory);\n",
    "  printf(\"====================================\\n\");\n",
    "}\n",
    "\n",
    "int main() {\n",
    "  init_python(4, 512);\n",
    "  init_python(8, 1024);\n",
    "  init_python(16, 2048);\n",
    "  return 0;\n",
    "}\n"
   ]
  },
  {
   "cell_type": "markdown",
   "id": "2ab3733b",
   "metadata": {},
   "source": [
    "<hr>\n",
    "<hr>\n",
    "<hr>\n",
    "<hr>"
   ]
  },
  {
   "cell_type": "markdown",
   "id": "38ce4321",
   "metadata": {},
   "source": [
    "# including files"
   ]
  },
  {
   "cell_type": "code",
   "execution_count": null,
   "id": "826bb461",
   "metadata": {},
   "outputs": [
    {
     "name": "stdout",
     "output_type": "stream",
     "text": [
      "Overwriting main.c\n"
     ]
    }
   ],
   "source": [
    "%%file main.c\n",
    "#include <stdio.h>\n",
    "#include \"exercise.h\"\n",
    "\n",
    "int main() {\n",
    "  printf(\"%f\\n\", get_average(4, 2, 6));\n",
    "  return 0;\n",
    "}\n"
   ]
  },
  {
   "cell_type": "code",
   "execution_count": null,
   "id": "ea263d14",
   "metadata": {},
   "outputs": [
    {
     "name": "stdout",
     "output_type": "stream",
     "text": [
      "Overwriting exercise.h\n"
     ]
    }
   ],
   "source": [
    "%%file exercise.h\n",
    "float get_average(int x, int y, int z);"
   ]
  },
  {
   "cell_type": "code",
   "execution_count": null,
   "id": "c7e01253",
   "metadata": {},
   "outputs": [
    {
     "name": "stdout",
     "output_type": "stream",
     "text": [
      "Overwriting exercise.c\n"
     ]
    }
   ],
   "source": [
    "%%file exercise.c\n",
    "#include \"exercise.h\"\n",
    "\n",
    "float get_average(int x, int y, int z) {\n",
    "  return ((float)(x + y + z)) / 3.0f;\n",
    "}"
   ]
  },
  {
   "cell_type": "code",
   "execution_count": null,
   "id": "38f1c10e",
   "metadata": {
    "vscode": {
     "languageId": "bat"
    }
   },
   "outputs": [
    {
     "name": "stdout",
     "output_type": "stream",
     "text": [
      "4.000000\n"
     ]
    }
   ],
   "source": [
    "!gcc main.c exercise.c -o main\n",
    "! ./main"
   ]
  },
  {
   "cell_type": "markdown",
   "id": "a00e1412",
   "metadata": {},
   "source": [
    "<hr>\n",
    "<hr>\n",
    "<hr>"
   ]
  },
  {
   "cell_type": "code",
   "execution_count": null,
   "id": "88289cec",
   "metadata": {},
   "outputs": [
    {
     "name": "stdout",
     "output_type": "stream",
     "text": [
      "Overwriting exercise.h\n"
     ]
    }
   ],
   "source": [
    "%%file exercise.h\n",
    "float snek_score(\n",
    "  int num_files,\n",
    "  int num_contributors,\n",
    "  int num_commits,\n",
    "  float avg_bug_criticality\n",
    ");"
   ]
  },
  {
   "cell_type": "code",
   "execution_count": null,
   "id": "e892c809",
   "metadata": {},
   "outputs": [],
   "source": [
    "%%file exercise.c\n",
    "float snek_score(\n",
    "  int num_files,\n",
    "  int num_contributors,\n",
    "  int num_commits,\n",
    "  float avg_bug_criticality\n",
    ") {\n",
    "\n",
    "  return final_score = ((num_files * num_commits) + num_contributors) * avg_bug_criticality;\n",
    "}"
   ]
  },
  {
   "cell_type": "code",
   "execution_count": null,
   "id": "c74b8fe1",
   "metadata": {},
   "outputs": [
    {
     "name": "stdout",
     "output_type": "stream",
     "text": [
      "Overwriting exercise.c\n"
     ]
    }
   ],
   "source": [
    "%%file exercise.c\n",
    "float snek_score(\n",
    "  int num_files,\n",
    "  int num_contributors,\n",
    "  int num_commits,\n",
    "  float avg_bug_criticality\n",
    ") {\n",
    "  int size_factor = num_files * num_commits;\n",
    "  int complexity_factor = size_factor + num_contributors;\n",
    "  return complexity_factor * avg_bug_criticality;\n",
    "}"
   ]
  },
  {
   "cell_type": "code",
   "execution_count": null,
   "id": "41d89bda",
   "metadata": {},
   "outputs": [
    {
     "name": "stdout",
     "output_type": "stream",
     "text": [
      "Overwriting main.c\n"
     ]
    }
   ],
   "source": [
    "%%file main.c\n",
    "#include <stdio.h>\n",
    "#include \"exercise.h\"\n",
    "\n",
    "int main() {\n",
    "  printf(\"%f\\n\", snek_score(10, 5, 20, 1.5));\n",
    "  return 0;\n",
    "}\n"
   ]
  },
  {
   "cell_type": "code",
   "execution_count": 59,
   "id": "cd2f7a38",
   "metadata": {},
   "outputs": [
    {
     "name": "stdout",
     "output_type": "stream",
     "text": [
      "307.500000\n"
     ]
    }
   ],
   "source": [
    "!gcc main.c exercise.c -o main\n",
    "! ./main"
   ]
  },
  {
   "cell_type": "markdown",
   "id": "070c5856",
   "metadata": {},
   "source": [
    "<hr>"
   ]
  },
  {
   "cell_type": "markdown",
   "id": "7c70f8d0",
   "metadata": {},
   "source": [
    "04/09/2025<hr>"
   ]
  },
  {
   "cell_type": "code",
   "execution_count": null,
   "id": "35c9cdd8",
   "metadata": {},
   "outputs": [],
   "source": [
    "const char *get_temperature_status(int temp){\n",
    "  if(temp > 90){\n",
    "    return \"too hot\";\n",
    "  }\n",
    "  else if(temp >= 70){\n",
    "    return \"just right\";\n",
    "  }\n",
    "  else{\n",
    "    return \"too cold\";\n",
    "  }\n",
    "}"
   ]
  },
  {
   "cell_type": "code",
   "execution_count": null,
   "id": "29813e0c",
   "metadata": {},
   "outputs": [],
   "source": [
    "int a = 5;\n",
    "int b = 10;\n",
    "int max = a > b ? a : b;\n",
    "printf(\"max: %d\\n\", max);\n",
    "// max: 10"
   ]
  },
  {
   "cell_type": "code",
   "execution_count": null,
   "id": "8b2fb20a",
   "metadata": {
    "vscode": {
     "languageId": "javascript"
    }
   },
   "outputs": [],
   "source": [
    "a > b ? a : b;"
   ]
  },
  {
   "cell_type": "code",
   "execution_count": null,
   "id": "191b1c92",
   "metadata": {
    "vscode": {
     "languageId": "javascript"
    }
   },
   "outputs": [],
   "source": [
    "1 == 0 ? 't' : 'f';"
   ]
  },
  {
   "cell_type": "code",
   "execution_count": null,
   "id": "677df2a3",
   "metadata": {},
   "outputs": [],
   "source": [
    "#include <stdbool.h>\n",
    "#include <stdint.h>\n",
    "#include <stdio.h>\n",
    "\n",
    "int main() {\n",
    "  // Use %zu is for printing `sizeof` result\n",
    "  printf(\"sizeof(char)   = %zu\\n\", sizeof(char));  \n",
    "  printf(\"sizeof(bool)   = %zu\\n\", sizeof(bool));\n",
    "  printf(\"sizeof(int)   = %zu\\n\", sizeof(int));\n",
    "  printf(\"sizeof(float)   = %zu\\n\", sizeof(float));\n",
    "  printf(\"sizeof(double)   = %zu\\n\", sizeof(double));\n",
    "  printf(\"sizeof(size_t)   = %zu\\n\", sizeof(size_t));\n",
    "  printf(\"sizeof(char*)   = %zu\\n\", sizeof(char*));\n",
    "}"
   ]
  },
  {
   "cell_type": "code",
   "execution_count": null,
   "id": "353a1c1c",
   "metadata": {},
   "outputs": [],
   "source": [
    "#include <stdio.h>\n",
    "void print_numbers(int start, int end){\n",
    "  for(int i = start;i <= end ; i++){\n",
    "    printf(\"%d\\n\",i);\n",
    "  }\n",
    "}"
   ]
  },
  {
   "cell_type": "code",
   "execution_count": null,
   "id": "0df0aeb3",
   "metadata": {},
   "outputs": [],
   "source": [
    "#include <stdio.h>\n",
    "void print_numbers_reverse(int start, int end){\n",
    "  int i = start;\n",
    "  while(i >= end){\n",
    "    printf(\"%d\\n\",i--);\n",
    "  }\n",
    "}"
   ]
  },
  {
   "cell_type": "code",
   "execution_count": null,
   "id": "a4b5a7f2",
   "metadata": {},
   "outputs": [],
   "source": [
    "#include <stdio.h>\n",
    "\n",
    "void print_numbers_reverse(int start, int end) {\n",
    "  do{\n",
    "    printf(\"%d\\n\", start);\n",
    "    start--;\n",
    "  }\n",
    "  while (start >= end);\n",
    "}\n"
   ]
  },
  {
   "cell_type": "markdown",
   "id": "c85c6fe5",
   "metadata": {},
   "source": [
    "<hr>\n",
    "<hr>\n",
    "<hr>\n",
    "<hr>"
   ]
  },
  {
   "cell_type": "code",
   "execution_count": 23,
   "id": "fcd158f1",
   "metadata": {},
   "outputs": [
    {
     "name": "stdout",
     "output_type": "stream",
     "text": [
      "Overwriting main.c\n"
     ]
    }
   ],
   "source": [
    "%%file main.c\n",
    "#include <stdio.h>\n",
    "\n",
    "int main() {\n",
    "  printf(\"hello world\");\n",
    "  return -5678;\n",
    "}"
   ]
  },
  {
   "cell_type": "code",
   "execution_count": 24,
   "id": "76b6adaa",
   "metadata": {},
   "outputs": [],
   "source": [
    "!gcc main.c -o main\n"
   ]
  },
  {
   "cell_type": "code",
   "execution_count": 25,
   "id": "bb1713ff",
   "metadata": {},
   "outputs": [
    {
     "name": "stdout",
     "output_type": "stream",
     "text": [
      "hello world\n"
     ]
    }
   ],
   "source": [
    "! ./main"
   ]
  },
  {
   "cell_type": "markdown",
   "id": "23a39348",
   "metadata": {},
   "source": [
    "what why the return 0 and int why???"
   ]
  },
  {
   "cell_type": "code",
   "execution_count": null,
   "id": "fdd4de43",
   "metadata": {},
   "outputs": [],
   "source": [
    "?"
   ]
  }
 ],
 "metadata": {
  "kernelspec": {
   "display_name": "Python 3",
   "language": "python",
   "name": "python3"
  },
  "language_info": {
   "codemirror_mode": {
    "name": "ipython",
    "version": 3
   },
   "file_extension": ".py",
   "mimetype": "text/x-python",
   "name": "python",
   "nbconvert_exporter": "python",
   "pygments_lexer": "ipython3",
   "version": "3.12.10"
  }
 },
 "nbformat": 4,
 "nbformat_minor": 5
}
