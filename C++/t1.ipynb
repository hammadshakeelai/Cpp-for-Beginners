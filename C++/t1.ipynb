{
 "cells": [
  {
   "cell_type": "code",
   "execution_count": 1,
   "id": "425093f5",
   "metadata": {},
   "outputs": [
    {
     "name": "stdout",
     "output_type": "stream",
     "text": [
      "TRANSFORMERS_CACHE = None\n",
      "HF_HOME            = None\n"
     ]
    },
    {
     "ename": "SystemExit",
     "evalue": "0",
     "output_type": "error",
     "traceback": [
      "An exception has occurred, use %tb to see the full traceback.\n",
      "\u001b[1;31mSystemExit\u001b[0m\u001b[1;31m:\u001b[0m 0\n"
     ]
    },
    {
     "name": "stderr",
     "output_type": "stream",
     "text": [
      "c:\\Users\\Hammad\\AppData\\Local\\Programs\\Python\\Python313\\Lib\\site-packages\\IPython\\core\\interactiveshell.py:3585: UserWarning: To exit: use 'exit', 'quit', or Ctrl-D.\n",
      "  warn(\"To exit: use 'exit', 'quit', or Ctrl-D.\", stacklevel=1)\n"
     ]
    }
   ],
   "source": [
    "import os, sys\n",
    "print(\"TRANSFORMERS_CACHE =\", os.environ.get(\"TRANSFORMERS_CACHE\"))\n",
    "print(\"HF_HOME            =\", os.environ.get(\"HF_HOME\"))\n",
    "sys.exit(0)\n"
   ]
  },
  {
   "cell_type": "code",
   "execution_count": 5,
   "id": "624fe2e1",
   "metadata": {},
   "outputs": [
    {
     "name": "stdout",
     "output_type": "stream",
     "text": [
      "july 12 - 89 days left\n",
      "july 13 - 88 days left\n",
      "july 14 - 87 days left\n",
      "july 15 - 86 days left\n",
      "july 16 - 85 days left\n",
      "july 17 - 84 days left\n",
      "july 18 - 83 days left\n",
      "july 19 - 82 days left\n",
      "july 20 - 81 days left\n",
      "july 21 - 80 days left\n",
      "july 22 - 79 days left\n",
      "july 23 - 78 days left\n",
      "july 24 - 77 days left\n",
      "july 25 - 76 days left\n",
      "july 26 - 75 days left\n",
      "july 27 - 74 days left\n",
      "july 28 - 73 days left\n",
      "july 29 - 72 days left\n",
      "july 30 - 71 days left\n",
      "july 31 - 70 days left\n",
      "august 1 - 69 days left\n",
      "august 2 - 68 days left\n",
      "august 3 - 67 days left\n",
      "august 4 - 66 days left\n",
      "august 5 - 65 days left\n",
      "august 6 - 64 days left\n",
      "august 7 - 63 days left\n",
      "august 8 - 62 days left\n",
      "august 9 - 61 days left\n",
      "august 10 - 60 days left\n",
      "august 11 - 59 days left\n",
      "august 12 - 58 days left\n",
      "august 13 - 57 days left\n",
      "august 14 - 56 days left\n",
      "august 15 - 55 days left\n",
      "august 16 - 54 days left\n",
      "august 17 - 53 days left\n",
      "august 18 - 52 days left\n",
      "august 19 - 51 days left\n",
      "august 20 - 50 days left\n",
      "august 21 - 49 days left\n",
      "august 22 - 48 days left\n",
      "august 23 - 47 days left\n",
      "august 24 - 46 days left\n",
      "august 25 - 45 days left\n",
      "august 26 - 44 days left\n",
      "august 27 - 43 days left\n",
      "august 28 - 42 days left\n",
      "august 29 - 41 days left\n",
      "august 30 - 40 days left\n",
      "august 31 - 39 days left\n",
      "september 1 - 38 days left\n",
      "september 2 - 37 days left\n",
      "september 3 - 36 days left\n",
      "september 4 - 35 days left\n",
      "september 5 - 34 days left\n",
      "september 6 - 33 days left\n",
      "september 7 - 32 days left\n",
      "september 8 - 31 days left\n",
      "september 9 - 30 days left\n",
      "september 10 - 29 days left\n",
      "september 11 - 28 days left\n",
      "september 12 - 27 days left\n",
      "september 13 - 26 days left\n",
      "september 14 - 25 days left\n",
      "september 15 - 24 days left\n",
      "september 16 - 23 days left\n",
      "september 17 - 22 days left\n",
      "september 18 - 21 days left\n",
      "september 19 - 20 days left\n",
      "september 20 - 19 days left\n",
      "september 21 - 18 days left\n",
      "september 22 - 17 days left\n",
      "september 23 - 16 days left\n",
      "september 24 - 15 days left\n",
      "september 25 - 14 days left\n",
      "september 26 - 13 days left\n",
      "september 27 - 12 days left\n",
      "september 28 - 11 days left\n",
      "september 29 - 10 days left\n",
      "september 30 - 9 days left\n",
      "october 1 - 8 days left\n",
      "october 2 - 7 days left\n",
      "october 3 - 6 days left\n",
      "october 4 - 5 days left\n",
      "october 5 - 4 days left\n",
      "october 6 - 3 days left\n",
      "october 7 - 2 days left\n",
      "october 8 - 1 days left\n",
      "october 9 - 0 days left\n"
     ]
    }
   ],
   "source": [
    "m=int(input(\"Enter month (1-12): \"))\n",
    "d=int(input(\"Enter day (1-31): \"))\n",
    "started = False\n",
    "while m < 1 or m > 12 or d < 1 or d > 31:\n",
    "    print(\"Invalid month or day\")\n",
    "    m=int(input(\"Enter month (1-12): \"))\n",
    "    d=int(input(\"Enter day (1-31): \"))\n",
    "counter = 90\n",
    "months = [  'january','february','march',\n",
    "            'april','may','june','july',\n",
    "            'august','september','october',\n",
    "            'november','december'  ]\n",
    "days_in_month = [31, 28, 31, 30, 31, 30, 31, 31, 30, 31, 30, 31]\n",
    "b = False\n",
    "for i in range(12):\n",
    "    month = months[i]\n",
    "    tdays = days_in_month[i]\n",
    "    for j in range(tdays):\n",
    "        if counter == 0:\n",
    "            # exit()\n",
    "            b = True\n",
    "            break\n",
    "        if started:\n",
    "            counter -= 1\n",
    "            print(f\"{month} {j+1} - {counter} days left\")\n",
    "        elif i == (m-1) and j == (d-1):\n",
    "            started = True\n",
    "    if b:\n",
    "        break   \n",
    "        \n",
    "            \n",
    "    "
   ]
  }
 ],
 "metadata": {
  "kernelspec": {
   "display_name": "Python 3",
   "language": "python",
   "name": "python3"
  },
  "language_info": {
   "codemirror_mode": {
    "name": "ipython",
    "version": 3
   },
   "file_extension": ".py",
   "mimetype": "text/x-python",
   "name": "python",
   "nbconvert_exporter": "python",
   "pygments_lexer": "ipython3",
   "version": "3.13.0"
  }
 },
 "nbformat": 4,
 "nbformat_minor": 5
}
