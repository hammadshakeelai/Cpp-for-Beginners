{
 "cells": [
  {
   "cell_type": "markdown",
   "id": "6731512d",
   "metadata": {},
   "source": [
    "# Making Python list in Cpp<hr>"
   ]
  },
  {
   "cell_type": "markdown",
   "id": "9bb09f41",
   "metadata": {},
   "source": [
    "<hr>\n",
    "\n",
    "##### Good Reusable Code For Once And All So That i Dont Have To Think About Any More And Can Focus More On Implimentation\n",
    "<hr>"
   ]
  },
  {
   "cell_type": "code",
   "execution_count": null,
   "id": "0246922f",
   "metadata": {},
   "outputs": [],
   "source": [
    "%% file objectclass.h\n",
    "\n",
    "#ifndef OBJECTCLASS_H\n",
    "#define OBJECTCLASS_H\n",
    "\n",
    "#include<iostream>\n",
    "#include <string>\n",
    "using namespace std;\n",
    "\n",
    "class Auto{\n",
    "    private:\n",
    "        auto var;\n",
    "    public:\n",
    "        Auto(int number) {\n",
    "            var = number;\n",
    "        }\n",
    "        Auto(double number){\n",
    "            var = number;\n",
    "        }\n",
    "        Auto(char letter){\n",
    "            var = letter;\n",
    "        }\n",
    "        Auto(string text){\n",
    "            var = text;\n",
    "        }\n",
    "        void print(){\n",
    "            cout << var << endl;\n",
    "        } \n",
    "};\n",
    "\n",
    "#endif"
   ]
  },
  {
   "cell_type": "code",
   "execution_count": 15,
   "id": "30b2d4cc",
   "metadata": {},
   "outputs": [
    {
     "name": "stdout",
     "output_type": "stream",
     "text": [
      "Overwriting test.cpp\n"
     ]
    }
   ],
   "source": [
    "%%file test.cpp\n",
    "#include<iostream>\n",
    "#include <string>\n",
    "using namespace std;\n",
    "\n",
    "class Auto{\n",
    "    private:\n",
    "        int var1 = 0;\n",
    "        double var2 = 0.0;\n",
    "        char var3 = 0;\n",
    "        string var4 = \"\";\n",
    "        int _case = 0;\n",
    "        \n",
    "    public:\n",
    "        Auto(int number) {\n",
    "            var1 = number;\n",
    "            _case = 1;\n",
    "        }\n",
    "        Auto(double number){\n",
    "            var2 = number;\n",
    "            _case = 2;\n",
    "\n",
    "        }\n",
    "        Auto(char letter){\n",
    "            var3 = letter;\n",
    "            _case = 3;\n",
    "\n",
    "        }\n",
    "        Auto(string text){\n",
    "            var4 = text;\n",
    "            _case = 4;\n",
    "\n",
    "        }\n",
    "        void print(){\n",
    "            switch(_case){\n",
    "                case 1:\n",
    "                    cout << var1 << endl;\n",
    "                    break;\n",
    "                case 2:\n",
    "                    cout << var2 << endl;\n",
    "                    break;\n",
    "                case 3:\n",
    "                    cout << var3 << endl;\n",
    "                    break;\n",
    "                case 4:\n",
    "                    cout << var4 << endl;\n",
    "                    break;\n",
    "                default:\n",
    "                    cout << 0 << endl;\n",
    "            }\n",
    "        } \n",
    "};\n",
    "int main(){\n",
    "    Auto Num(8);Num.print();\n",
    "    Auto num('w');num.print();\n",
    "    \n",
    "    return 0;\n",
    "}"
   ]
  },
  {
   "cell_type": "code",
   "execution_count": 16,
   "id": "c5cbeb6d",
   "metadata": {},
   "outputs": [],
   "source": [
    "!g++ test.cpp -o test.exe "
   ]
  },
  {
   "cell_type": "code",
   "execution_count": 17,
   "id": "65b4b8f7",
   "metadata": {},
   "outputs": [
    {
     "name": "stdout",
     "output_type": "stream",
     "text": [
      "8\n",
      "w\n"
     ]
    }
   ],
   "source": [
    "! ./test.exe"
   ]
  }
 ],
 "metadata": {
  "kernelspec": {
   "display_name": "Python 3",
   "language": "python",
   "name": "python3"
  },
  "language_info": {
   "codemirror_mode": {
    "name": "ipython",
    "version": 3
   },
   "file_extension": ".py",
   "mimetype": "text/x-python",
   "name": "python",
   "nbconvert_exporter": "python",
   "pygments_lexer": "ipython3",
   "version": "3.13.7"
  }
 },
 "nbformat": 4,
 "nbformat_minor": 5
}
