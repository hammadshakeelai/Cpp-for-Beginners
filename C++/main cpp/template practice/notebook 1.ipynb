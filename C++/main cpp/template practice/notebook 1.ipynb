{
 "cells": [
  {
   "cell_type": "markdown",
   "id": "250bb8f1",
   "metadata": {},
   "source": [
    "# Template Practise In C++"
   ]
  },
  {
   "cell_type": "markdown",
   "id": "7f750013",
   "metadata": {},
   "source": [
    "# For Purpose Of Flexibile and Reusable Data Type \n"
   ]
  },
  {
   "cell_type": "markdown",
   "id": "daeef887",
   "metadata": {},
   "source": [
    "### Simple Model"
   ]
  },
  {
   "cell_type": "code",
   "execution_count": 59,
   "id": "c19be44b",
   "metadata": {},
   "outputs": [
    {
     "name": "stdout",
     "output_type": "stream",
     "text": [
      "Overwriting main.cpp\n"
     ]
    }
   ],
   "source": [
    "%%file main.cpp\n",
    "#include <iostream>\n",
    "using namespace std;\n",
    "\n",
    "template<typename T>\n",
    "void print_default() {\n",
    "    T a = 0;\n",
    "    cout << a << endl;\n",
    "}\n",
    "\n",
    "int main () {\n",
    "    print_default<int>();\n",
    "    return 0;\n",
    "}"
   ]
  },
  {
   "cell_type": "code",
   "execution_count": 61,
   "id": "e5b1b62c",
   "metadata": {},
   "outputs": [
    {
     "name": "stdout",
     "output_type": "stream",
     "text": [
      "0\n"
     ]
    }
   ],
   "source": [
    "! ./main.exe"
   ]
  },
  {
   "cell_type": "code",
   "execution_count": 60,
   "id": "0ec71400",
   "metadata": {},
   "outputs": [
    {
     "name": "stdout",
     "output_type": "stream",
     "text": [
      "Microsoft Windows [Version 10.0.26100.4946]\n",
      "(c) Microsoft Corporation. All rights reserved.\n",
      "\n",
      "d:\\Github\\Cpp-for-Beginners\\C++\\main cpp\\template practice>g++ main.cpp -o main.exe\n",
      "\n",
      "d:\\Github\\Cpp-for-Beginners\\C++\\main cpp\\template practice>"
     ]
    }
   ],
   "source": [
    "%%cmd\n",
    "g++ main.cpp -o main.exe"
   ]
  },
  {
   "cell_type": "markdown",
   "id": "aa1f6350",
   "metadata": {},
   "source": [
    "### Base Model"
   ]
  },
  {
   "cell_type": "code",
   "execution_count": null,
   "id": "f6ef3d9d",
   "metadata": {},
   "outputs": [
    {
     "name": "stdout",
     "output_type": "stream",
     "text": [
      "Writing main.cpp\n"
     ]
    }
   ],
   "source": [
    "%%file main.cpp\n",
    "#include <iostream>\n",
    "using namespace std;\n",
    "\n",
    "template <typename T>\n",
    "T add(T a, T b) {\n",
    "    return a + b;\n",
    "}\n",
    "int main () {\n",
    "    cout << add(5, 10) << endl;        // Integer addition\n",
    "    cout << add(5.5, 10.5) << endl;    // Floating-point addition\n",
    "    cout << add(string(\"Hello, \"), string(\"world!\")) << endl; // String concatenation\n",
    "    return 0;\n",
    "}"
   ]
  },
  {
   "cell_type": "code",
   "execution_count": 3,
   "id": "fc06850e",
   "metadata": {},
   "outputs": [
    {
     "name": "stdout",
     "output_type": "stream",
     "text": [
      "15\n",
      "16\n",
      "Hello, world!\n"
     ]
    }
   ],
   "source": [
    "! ./main"
   ]
  },
  {
   "cell_type": "code",
   "execution_count": 2,
   "id": "e33dc3d6",
   "metadata": {},
   "outputs": [
    {
     "name": "stdout",
     "output_type": "stream",
     "text": [
      "Microsoft Windows [Version 10.0.26100.4946]\n",
      "(c) Microsoft Corporation. All rights reserved.\n",
      "\n",
      "d:\\Github\\Cpp-for-Beginners\\C++\\main cpp\\template practice>g++ main.cpp -o main\n",
      "\n",
      "d:\\Github\\Cpp-for-Beginners\\C++\\main cpp\\template practice>"
     ]
    }
   ],
   "source": [
    "%%cmd\n",
    "g++ main.cpp -o main"
   ]
  },
  {
   "cell_type": "markdown",
   "id": "e9226f23",
   "metadata": {},
   "source": [
    "### Advance Model"
   ]
  },
  {
   "cell_type": "code",
   "execution_count": 4,
   "id": "9414baf3",
   "metadata": {},
   "outputs": [
    {
     "name": "stdout",
     "output_type": "stream",
     "text": [
      "Overwriting main.cpp\n"
     ]
    }
   ],
   "source": [
    "%%file main.cpp\n",
    "#include <iostream>\n",
    "using namespace std;\n",
    "\n",
    "template <typename T>\n",
    "template <typename U>\n",
    "\n",
    "T add(T a, U b) {\n",
    "    return a + b;\n",
    "}\n",
    "U add(T a, U b) {\n",
    "    return a + b;\n",
    "}\n",
    "\n",
    "int main () {\n",
    "    cout << add(5, 10.5) << endl;        // Integer Floating-point addition\n",
    "    cout << add(5.5, 10) << endl;    // Floating-point Integer addition\n",
    "    return 0;\n",
    "}"
   ]
  },
  {
   "cell_type": "code",
   "execution_count": 6,
   "id": "2a933676",
   "metadata": {},
   "outputs": [
    {
     "name": "stdout",
     "output_type": "stream",
     "text": [
      "15\n",
      "16\n",
      "Hello, world!\n"
     ]
    }
   ],
   "source": [
    "! ./main"
   ]
  },
  {
   "cell_type": "code",
   "execution_count": 62,
   "id": "c958c589",
   "metadata": {},
   "outputs": [
    {
     "name": "stdout",
     "output_type": "stream",
     "text": [
      "Microsoft Windows [Version 10.0.26100.4946]\n",
      "(c) Microsoft Corporation. All rights reserved.\n",
      "\n",
      "d:\\Github\\Cpp-for-Beginners\\C++\\main cpp\\template practice>g++ main.cpp -o main\n"
     ]
    },
    {
     "name": "stdout",
     "output_type": "stream",
     "text": [
      "\n",
      "d:\\Github\\Cpp-for-Beginners\\C++\\main cpp\\template practice>"
     ]
    }
   ],
   "source": [
    "%%cmd\n",
    "g++ main.cpp -o main"
   ]
  },
  {
   "cell_type": "markdown",
   "id": "18d69dc7",
   "metadata": {},
   "source": [
    "### More Advanced Model"
   ]
  },
  {
   "cell_type": "code",
   "execution_count": 7,
   "id": "1666f258",
   "metadata": {
    "vscode": {
     "languageId": "javascript"
    }
   },
   "outputs": [
    {
     "name": "stdout",
     "output_type": "stream",
     "text": [
      "Overwriting main.cpp\n"
     ]
    }
   ],
   "source": [
    "%%file main.cpp\n",
    "#include <iostream>\n",
    "#include <string>\n",
    "\n",
    "template<typename T, typename U>\n",
    "auto add(T a, U b){\n",
    "    return a + b;\n",
    "}\n",
    "\n",
    "// template<typename T, typename... Rest>\n",
    "// auto add_all(T first, Rest... rest) -> decltype(first + add_all(rest...)) {\n",
    "//     return first + add_all(rest...);\n",
    "// }\n",
    "\n",
    "// explicit ???\n",
    "int main() {\n",
    "    int x = 5;\n",
    "    double y = 10.5;\n",
    "    std::cout << \"add(x, y) = \" << add(x, y) << '\\n';\n",
    "    return 0;\n",
    "}"
   ]
  },
  {
   "cell_type": "code",
   "execution_count": 9,
   "id": "b938b37a",
   "metadata": {},
   "outputs": [
    {
     "name": "stdout",
     "output_type": "stream",
     "text": [
      "add(x, y) = 15.5\n"
     ]
    }
   ],
   "source": [
    "! ./main"
   ]
  },
  {
   "cell_type": "code",
   "execution_count": 63,
   "id": "2c8d507d",
   "metadata": {},
   "outputs": [
    {
     "name": "stdout",
     "output_type": "stream",
     "text": [
      "Microsoft Windows [Version 10.0.26100.4946]\n",
      "(c) Microsoft Corporation. All rights reserved.\n",
      "\n",
      "d:\\Github\\Cpp-for-Beginners\\C++\\main cpp\\template practice>g++ -std=c++14 -o main main.cpp\n"
     ]
    },
    {
     "name": "stdout",
     "output_type": "stream",
     "text": [
      "\n",
      "d:\\Github\\Cpp-for-Beginners\\C++\\main cpp\\template practice>"
     ]
    }
   ],
   "source": [
    "%%cmd\n",
    "g++ -std=c++14 -o main main.cpp"
   ]
  },
  {
   "cell_type": "markdown",
   "id": "775d5790",
   "metadata": {},
   "source": [
    "### Slightly More Advance Model"
   ]
  },
  {
   "cell_type": "code",
   "execution_count": null,
   "id": "56663ab4",
   "metadata": {
    "vscode": {
     "languageId": "javascript"
    }
   },
   "outputs": [
    {
     "name": "stdout",
     "output_type": "stream",
     "text": [
      "Overwriting main.cpp\n"
     ]
    }
   ],
   "source": [
    "%%file main.cpp\n",
    "#include <iostream>\n",
    "#include <type_traits>\n",
    "#include <string>\n",
    "\n",
    "// Recursive variadic template that sums (or concatenates) any number of arguments.\n",
    "// The return type is deduced via std::common_type so mixed numeric types promote correctly.\n",
    "\n",
    "// i dont really understand this so i'll stop for now\n",
    "// untill i understand it better\n",
    "template<typename T, typename... Rest>\n",
    "auto add_all(T first, Rest... rest) -> typename std::common_type<T, Rest...>::type {\n",
    "    using result_t = typename std::common_type<T, Rest...>::type;\n",
    "    return static_cast<result_t>(first) + static_cast<result_t>(add_all(rest...));\n",
    "}\n",
    "\n",
    "int main() {\n",
    "    std::cout << add_all(1, 2, 3, 4) << '\\n';                     // ints -> int\n",
    "    std::cout << add_all(1.5, 2, 3.25) << '\\n';                   // mixes -> double\n",
    "    std::cout << add_all(\"a\", \"b\", \"c\") << '\\n'; // strings -> concatenation\n",
    "    std::cout << add_all(1, 2.5f, 3.0) << '\\n';                   // mixed floats -> double\n",
    "    return 0;\n",
    "}"
   ]
  },
  {
   "cell_type": "code",
   "execution_count": 21,
   "id": "97eb2cff",
   "metadata": {},
   "outputs": [
    {
     "name": "stdout",
     "output_type": "stream",
     "text": [
      "10\n",
      "6.75\n",
      "abc\n",
      "6.5\n"
     ]
    }
   ],
   "source": [
    "! ./main"
   ]
  },
  {
   "cell_type": "code",
   "execution_count": 64,
   "id": "b051bd91",
   "metadata": {},
   "outputs": [
    {
     "name": "stdout",
     "output_type": "stream",
     "text": [
      "Microsoft Windows [Version 10.0.26100.4946]\n",
      "(c) Microsoft Corporation. All rights reserved.\n",
      "\n",
      "d:\\Github\\Cpp-for-Beginners\\C++\\main cpp\\template practice>g++ main.cpp -o main\n"
     ]
    },
    {
     "name": "stdout",
     "output_type": "stream",
     "text": [
      "\n",
      "d:\\Github\\Cpp-for-Beginners\\C++\\main cpp\\template practice>"
     ]
    }
   ],
   "source": [
    "%%cmd \n",
    "g++ main.cpp -o main"
   ]
  }
 ],
 "metadata": {
  "kernelspec": {
   "display_name": "Python 3",
   "language": "python",
   "name": "python3"
  },
  "language_info": {
   "codemirror_mode": {
    "name": "ipython",
    "version": 3
   },
   "file_extension": ".py",
   "mimetype": "text/x-python",
   "name": "python",
   "nbconvert_exporter": "python",
   "pygments_lexer": "ipython3",
   "version": "3.13.0"
  }
 },
 "nbformat": 4,
 "nbformat_minor": 5
}
