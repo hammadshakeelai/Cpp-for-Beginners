{
 "cells": [
  {
   "cell_type": "markdown",
   "id": "aa1f6350",
   "metadata": {},
   "source": [
    "Base Model"
   ]
  },
  {
   "cell_type": "code",
   "execution_count": null,
   "id": "f6ef3d9d",
   "metadata": {},
   "outputs": [
    {
     "name": "stdout",
     "output_type": "stream",
     "text": [
      "Writing main.cpp\n"
     ]
    }
   ],
   "source": [
    "%%file main.cpp\n",
    "#include <iostream>\n",
    "using namespace std;\n",
    "\n",
    "template <typename T>\n",
    "T add(T a, T b) {\n",
    "    return a + b;\n",
    "}\n",
    "int main () {\n",
    "    cout << add(5, 10) << endl;        // Integer addition\n",
    "    cout << add(5.5, 10.5) << endl;    // Floating-point addition\n",
    "    cout << add(string(\"Hello, \"), string(\"world!\")) << endl; // String concatenation\n",
    "    return 0;\n",
    "}"
   ]
  },
  {
   "cell_type": "code",
   "execution_count": 3,
   "id": "fc06850e",
   "metadata": {},
   "outputs": [
    {
     "name": "stdout",
     "output_type": "stream",
     "text": [
      "15\n",
      "16\n",
      "Hello, world!\n"
     ]
    }
   ],
   "source": [
    "! ./main"
   ]
  },
  {
   "cell_type": "code",
   "execution_count": 2,
   "id": "e33dc3d6",
   "metadata": {},
   "outputs": [
    {
     "name": "stdout",
     "output_type": "stream",
     "text": [
      "Microsoft Windows [Version 10.0.26100.4946]\n",
      "(c) Microsoft Corporation. All rights reserved.\n",
      "\n",
      "d:\\Github\\Cpp-for-Beginners\\C++\\main cpp\\template practice>g++ main.cpp -o main\n",
      "\n",
      "d:\\Github\\Cpp-for-Beginners\\C++\\main cpp\\template practice>"
     ]
    }
   ],
   "source": [
    "%%cmd\n",
    "g++ main.cpp -o main"
   ]
  },
  {
   "cell_type": "markdown",
   "id": "e9226f23",
   "metadata": {},
   "source": [
    "Advance Model"
   ]
  },
  {
   "cell_type": "code",
   "execution_count": 4,
   "id": "9414baf3",
   "metadata": {},
   "outputs": [
    {
     "name": "stdout",
     "output_type": "stream",
     "text": [
      "Overwriting main.cpp\n"
     ]
    }
   ],
   "source": [
    "%%file main.cpp\n",
    "#include <iostream>\n",
    "using namespace std;\n",
    "\n",
    "template <typename T>\n",
    "template <typename U>\n",
    "\n",
    "T add(T a, U b) {\n",
    "    return a + b;\n",
    "}\n",
    "U add(T a, U b) {\n",
    "    return a + b;\n",
    "}\n",
    "\n",
    "int main () {\n",
    "    cout << add(5, 10.5) << endl;        // Integer Floating-point addition\n",
    "    cout << add(5.5, 10) << endl;    // Floating-point Integer addition\n",
    "    return 0;\n",
    "}"
   ]
  },
  {
   "cell_type": "code",
   "execution_count": 6,
   "id": "2a933676",
   "metadata": {},
   "outputs": [
    {
     "name": "stdout",
     "output_type": "stream",
     "text": [
      "15\n",
      "16\n",
      "Hello, world!\n"
     ]
    }
   ],
   "source": [
    "! ./main"
   ]
  },
  {
   "cell_type": "code",
   "execution_count": 5,
   "id": "c958c589",
   "metadata": {},
   "outputs": [
    {
     "name": "stdout",
     "output_type": "stream",
     "text": [
      "Microsoft Windows [Version 10.0.26100.4946]\n",
      "(c) Microsoft Corporation. All rights reserved.\n",
      "\n",
      "d:\\Github\\Cpp-for-Beginners\\C++\\main cpp\\template practice>g++ main.cpp -o main\n"
     ]
    },
    {
     "name": "stderr",
     "output_type": "stream",
     "text": [
      "main.cpp:7:3: error: too many template-parameter-lists\n",
      "    7 | T add(T a, U b) {\n",
      "      |   ^~~\n",
      "main.cpp:10:1: error: 'U' does not name a type\n",
      "   10 | U add(T a, U b) {\n",
      "      | ^\n",
      "main.cpp: In function 'int main()':\n",
      "main.cpp:15:13: error: 'add' was not declared in this scope\n",
      "   15 |     cout << add(5, 10.5) << endl;        // Integer Floating-point addition\n",
      "      |             ^~~\n"
     ]
    },
    {
     "name": "stdout",
     "output_type": "stream",
     "text": [
      "\n",
      "d:\\Github\\Cpp-for-Beginners\\C++\\main cpp\\template practice>"
     ]
    }
   ],
   "source": [
    "%%cmd\n",
    "g++ main.cpp -o main"
   ]
  }
 ],
 "metadata": {
  "kernelspec": {
   "display_name": "Python 3",
   "language": "python",
   "name": "python3"
  },
  "language_info": {
   "codemirror_mode": {
    "name": "ipython",
    "version": 3
   },
   "file_extension": ".py",
   "mimetype": "text/x-python",
   "name": "python",
   "nbconvert_exporter": "python",
   "pygments_lexer": "ipython3",
   "version": "3.13.0"
  }
 },
 "nbformat": 4,
 "nbformat_minor": 5
}
