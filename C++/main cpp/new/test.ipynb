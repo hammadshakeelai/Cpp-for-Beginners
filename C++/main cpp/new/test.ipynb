{
 "cells": [
  {
   "cell_type": "markdown",
   "id": "c606e725",
   "metadata": {},
   "source": []
  },
  {
   "cell_type": "code",
   "execution_count": 5,
   "id": "abd0d037",
   "metadata": {},
   "outputs": [
    {
     "name": "stdout",
     "output_type": "stream",
     "text": [
      "Overwriting _.cpp\n"
     ]
    }
   ],
   "source": [
    "%%file _.cpp\n",
    "#include <iostream> // Added for std::cout\n",
    "#include <stdexcept>\n",
    "\n",
    "int main() {\n",
    "    try {\n",
    "        throw std::runtime_error(\"Unknown exception\");\n",
    "    }\n",
    "    catch (const std::exception& e) {\n",
    "        std::cout << \"Caught an exception: \" << e.what() << std::endl;\n",
    "    }\n",
    "    return 0;\n",
    "}"
   ]
  },
  {
   "cell_type": "code",
   "execution_count": null,
   "id": "579f0eb3",
   "metadata": {},
   "outputs": [],
   "source": [
    "%%cmd\n",
    "g++ _.cpp -o _.exe"
   ]
  },
  {
   "cell_type": "code",
   "execution_count": 7,
   "id": "63ddf539",
   "metadata": {},
   "outputs": [
    {
     "name": "stdout",
     "output_type": "stream",
     "text": [
      "Caught an exception: Unknown exception\n"
     ]
    }
   ],
   "source": [
    "! ./_.exe"
   ]
  }
 ],
 "metadata": {
  "kernelspec": {
   "display_name": "Python 3",
   "language": "python",
   "name": "python3"
  },
  "language_info": {
   "codemirror_mode": {
    "name": "ipython",
    "version": 3
   },
   "file_extension": ".py",
   "mimetype": "text/x-python",
   "name": "python",
   "nbconvert_exporter": "python",
   "pygments_lexer": "ipython3",
   "version": "3.13.7"
  }
 },
 "nbformat": 4,
 "nbformat_minor": 5
}
