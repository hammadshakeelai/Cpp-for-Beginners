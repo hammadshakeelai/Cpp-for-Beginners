{
 "cells": [
  {
   "cell_type": "markdown",
   "id": "2143eba5",
   "metadata": {},
   "source": [
    "# Vectors"
   ]
  },
  {
   "cell_type": "markdown",
   "id": "85fe49b8",
   "metadata": {},
   "source": []
  },
  {
   "cell_type": "markdown",
   "id": "063e2e4f",
   "metadata": {},
   "source": [
    "C++ Code"
   ]
  },
  {
   "cell_type": "code",
   "execution_count": 2,
   "id": "07fc10d8",
   "metadata": {},
   "outputs": [
    {
     "name": "stdout",
     "output_type": "stream",
     "text": [
      "Writing main.cpp\n"
     ]
    }
   ],
   "source": [
    "%%file main.cpp\n",
    "#include <iostream>\n",
    "#include <vector>\n",
    "\n",
    "int main() {\n",
    "    std::vector<int> numbers = {1, 2, 3, 4, 5};\n",
    "\n",
    "    for (const auto& num : numbers) {\n",
    "        std::cout << num << std::endl;\n",
    "    }\n",
    "\n",
    "    return 0;\n",
    "}"
   ]
  },
  {
   "cell_type": "code",
   "execution_count": 4,
   "id": "92fc2658",
   "metadata": {},
   "outputs": [
    {
     "name": "stdout",
     "output_type": "stream",
     "text": [
      "\"Compiling main.cpp...\"\n"
     ]
    },
    {
     "name": "stdout",
     "output_type": "stream",
     "text": [
      "\"Running main...\"\n",
      "1\n",
      "2\n",
      "3\n",
      "4\n",
      "5\n"
     ]
    }
   ],
   "source": [
    "!echo \"Compiling main.cpp...\"\n",
    "!g++ main.cpp -o main\n",
    "!echo \"Running main...\"\n",
    "! ./main"
   ]
  },
  {
   "cell_type": "code",
   "execution_count": null,
   "id": "55f74f08",
   "metadata": {},
   "outputs": [],
   "source": [
    "#include<iostream>\n",
    "// including vectors library\n",
    "#include<vector>\n",
    "using namespace std;\n",
    "\n",
    "int main() {\n",
    "    //initialized vector array with integers values\n",
    "    vector<int> numbers = {1, 2, 3, 4, 5};\n",
    "    // adding 6 to the vector array\n",
    "    numbers.push_back(6);\n",
    "    // looping over the vector array\n",
    "    for(int num : numbers) {\n",
    "        cout << num << \" \";\n",
    "    }\n",
    "    // accessing end vector elements\n",
    "    numbers.end();\n",
    "    // accessing beginning vector elements\n",
    "    numbers.begin();\n",
    "    numbers.front();\n",
    "    numbers.pop_back();\n",
    "    // accessing index 0 vector elements also checks if this is in its bounds\n",
    "    numbers.at(0);\n",
    "    // changing index 2 vector elements with value 10\n",
    "    numbers[2] = 10;\n",
    "    // accessing size of vector elements\n",
    "    numbers.size();\n",
    "    // inserting 0 at index 3\n",
    "    numbers.insert(numbers.begin() + 3, 0);\n",
    "    // erasing element at index 1\n",
    "    numbers.erase(numbers.begin() + 1);\n",
    "    // clearing the vector\n",
    "    numbers.clear();\n",
    "    return 0;\n",
    "}\n",
    "/*\n",
    "Different ways to initialize vectors\n",
    "    vector<int> v1;  // empty\n",
    "    vector<int> v2(5);  // {0, 0, 0, 0, 0}\n",
    "    vector<int> v3(5, 42);  // {42, 42, 42, 42, 42}\n",
    "    vector<int> v4 = {1, 2, 3, 4, 5};  // {1, 2, 3, 4, 5}\n",
    "*/\n",
    "#include <iostream>\n",
    "#include <vector>\n",
    "#include <algorithm>\n",
    "\n",
    "int main() {\n",
    "    // initialize vector with integers\n",
    "    std::vector<int> numbers = {1, 2, 3, 4, 5};\n",
    "\n",
    "    // push_back and print\n",
    "    numbers.push_back(6);\n",
    "    std::cout << \"After push_back(6): \";\n",
    "    for (int n : numbers) std::cout << n << ' ';\n",
    "    std::cout << '\\n';\n",
    "\n",
    "    // access elements\n",
    "    std::cout << \"numbers.at(0): \" << numbers.at(0) << '\\n';\n",
    "    std::cout << \"numbers[2]: \" << numbers[2] << '\\n';\n",
    "\n",
    "    // modify element\n",
    "    numbers[2] = 10;\n",
    "    std::cout << \"After numbers[2] = 10: \";\n",
    "    for (int n : numbers) std::cout << n << ' ';\n",
    "    std::cout << '\\n';\n",
    "\n",
    "    // insert and erase\n",
    "    numbers.insert(numbers.begin() + 3, 0); // insert 0 at index 3\n",
    "    std::cout << \"After insert 0 at index 3: \";\n",
    "    for (int n : numbers) std::cout << n << ' ';\n",
    "    std::cout << '\\n';\n",
    "\n",
    "    numbers.erase(numbers.begin() + 1); // remove element at index 1\n",
    "    std::cout << \"After erase at index 1: \";\n",
    "    for (int n : numbers) std::cout << n << ' ';\n",
    "    std::cout << '\\n';\n",
    "\n",
    "    // pop_back\n",
    "    numbers.pop_back();\n",
    "    std::cout << \"After pop_back(): \";\n",
    "    for (int n : numbers) std::cout << n << ' ';\n",
    "    std::cout << '\\n';\n",
    "\n",
    "    // size and clear\n",
    "    std::cout << \"Size before clear(): \" << numbers.size() << '\\n';\n",
    "    numbers.clear();\n",
    "    std::cout << \"Size after clear(): \" << numbers.size() << '\\n';\n",
    "\n",
    "    // demonstrate common constructors\n",
    "    std::vector<int> v1;              // empty\n",
    "    std::vector<int> v2(5);           // 5 zeros\n",
    "    std::vector<int> v3(5, 42);       // five 42s\n",
    "    std::vector<int> v4 = {1, 2, 3};  // initializer list\n",
    "\n",
    "    std::cout <<\n",
    "    for (int n : v2) std::cout << n << ' ';\n",
    "    std::cout << \"\\nv3: \";\n",
    "    for (int n : v3) std::cout << n << ' ';\n",
    "    std::cout << \"\\nv4: \";\n",
    "    for (int n : v4) std::cout << n << ' ';\n",
    "    std::cout << '\\n';\n",
    "\n",
    "    return 0;\n",
    "}\n",
    "#include <iostream>\n",
    "#include <vector>\n",
    "#include <algorithm>\n",
    "\n",
    "int main() {\n",
    "    // 1D vector example\n",
    "    std::vector<int> numbers = {1, 2, 3, 4, 5};\n",
    "    \n",
    "    // resize a 1D vector with default value\n",
    "    std::vector<int> vector1;\n",
    "    vector1.resize(10, -1);\n",
    "    std::cout << \"vector1 (10 elements, -1): \";\n",
    "    for (int n : vector1) std::cout << n << ' ';\n",
    "    std::cout << '\\n';\n",
    "\n",
    "    // 2D vector (grid) example\n",
    "    std::vector<std::vector<int>> grid = {\n",
    "        {1, 2, 3},\n",
    "        {4, 5, 6},\n",
    "        {7, 8, 9}\n",
    "    };\n",
    "\n",
    "    grid[0][0] = 10;\n",
    "    std::cout << \"grid[0][0] = \" << grid[0][0] << '\\n';\n",
    "    std::cout << \"grid rows: \" << grid.size() << \", cols in row0: \" << grid[0].size() << '\\n';\n",
    "    std::cout << \"grid empty? \" << (grid.empty() ? \"yes\" : \"no\") << '\\n';\n",
    "\n",
    "    // Resize to 10x10 filled with -1\n",
    "    grid.resize(10, std::vector<int>(10, -1));\n",
    "    for (auto &row : grid) {\n",
    "        row.resize(10, -1);\n",
    "    }\n",
    "\n",
    "    std::cout << \"After resize to 10x10, grid[0][0]: \" << grid[0][0] << \", grid[2][2]: \" << grid[2][2] << '\\n';\n",
    "    std::cout << \"grid rows now: \" << grid.size() << \", cols in row0: \" << grid[0].size() << '\\n';\n",
    "\n",
    "    // Print first 4x4 portion\n",
    "    std::cout << \"Top-left 4x4 of grid:\\n\";\n",
    "    for (size_t i = 0; i < 4 && i < grid.size(); ++i) {\n",
    "        for (size_t j = 0; j < 4 && j < grid[i].size(); ++j) {\n",
    "            std::cout << grid[i][j] << '\\t';\n",
    "        }\n",
    "        std::cout << '\\n';\n",
    "    }\n",
    "\n",
    "    return 0;\n",
    "}"
   ]
  },
  {
   "cell_type": "code",
   "execution_count": null,
   "id": "8139b779",
   "metadata": {},
   "outputs": [],
   "source": [
    "vector<vector<int>> grid = {\n",
    "    {1, 2, 3},\n",
    "    {4, 5, 6},\n",
    "    {7, 8, 9}\n",
    "}; \n",
    "grid[0][0] = 10;"
   ]
  },
  {
   "cell_type": "code",
   "execution_count": null,
   "id": "acc61b1d",
   "metadata": {},
   "outputs": [],
   "source": [
    "grid.size();\n",
    "grid[0].size();"
   ]
  },
  {
   "cell_type": "code",
   "execution_count": null,
   "id": "1f16f5fd",
   "metadata": {},
   "outputs": [],
   "source": [
    "grid.empty();"
   ]
  },
  {
   "cell_type": "code",
   "execution_count": null,
   "id": "1a4301fc",
   "metadata": {},
   "outputs": [],
   "source": [
    "grid.resize(10, std::vector<int>(10, -1)); // Initialize a 10x10 grid with all values set to -1"
   ]
  },
  {
   "cell_type": "code",
   "execution_count": null,
   "id": "eb63a0ef",
   "metadata": {},
   "outputs": [],
   "source": [
    "vector1.resize(10, -1); // Initialize a 1D vector with 10 elements, all set to -1"
   ]
  },
  {
   "cell_type": "code",
   "execution_count": null,
   "id": "90f448e8",
   "metadata": {},
   "outputs": [],
   "source": []
  }
 ],
 "metadata": {
  "kernelspec": {
   "display_name": "Python 3",
   "language": "python",
   "name": "python3"
  },
  "language_info": {
   "codemirror_mode": {
    "name": "ipython",
    "version": 3
   },
   "file_extension": ".py",
   "mimetype": "text/x-python",
   "name": "python",
   "nbconvert_exporter": "python",
   "pygments_lexer": "ipython3",
   "version": "3.13.7"
  }
 },
 "nbformat": 4,
 "nbformat_minor": 5
}
