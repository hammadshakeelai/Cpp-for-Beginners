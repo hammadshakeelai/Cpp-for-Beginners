{
 "cells": [
  {
   "cell_type": "markdown",
   "id": "2143eba5",
   "metadata": {},
   "source": [
    "# Vectors"
   ]
  },
  {
   "cell_type": "markdown",
   "id": "58cd9196",
   "metadata": {},
   "source": [
    " Short answers why we learn vectors \n",
    " - Dynamic arrays: grow/shrink at runtime (push_back/append)\n",
    " - Contiguous memory: fast random access and cache-friendly performance\n",
    " - Rich library support (e.g., C++ std::vector + algorithms)\n",
    " - Fundamental for algorithms, graphics, physics, ML (mathematical vectors)\n",
    " - Portable concept across languages (lists/arrays/ndarrays)\n",
    "\n",
    "**std : : vector**"
   ]
  },
  {
   "cell_type": "markdown",
   "id": "063e2e4f",
   "metadata": {},
   "source": [
    "C++ Code<hr>"
   ]
  },
  {
   "cell_type": "code",
   "execution_count": null,
   "id": "07fc10d8",
   "metadata": {
    "vscode": {
     "languageId": "cpp"
    }
   },
   "outputs": [
    {
     "name": "stdout",
     "output_type": "stream",
     "text": [
      "Writing main.cpp\n"
     ]
    }
   ],
   "source": [
    "%%file main.cpp\n",
    "#include <iostream>\n",
    "#include <vector>\n",
    "\n",
    "int main() {\n",
    "    std::vector<int> numbers = {1, 2, 3, 4, 5};\n",
    "\n",
    "    for (const auto& num : numbers) {\n",
    "        std::cout << num << std::endl;\n",
    "    }\n",
    "\n",
    "    return 0;\n",
    "}"
   ]
  },
  {
   "cell_type": "code",
   "execution_count": null,
   "id": "92fc2658",
   "metadata": {
    "vscode": {
     "languageId": "bat"
    }
   },
   "outputs": [
    {
     "name": "stdout",
     "output_type": "stream",
     "text": [
      "\"Compiling main.cpp...\"\n"
     ]
    },
    {
     "name": "stdout",
     "output_type": "stream",
     "text": [
      "\"Running main...\"\n",
      "1\n",
      "2\n",
      "3\n",
      "4\n",
      "5\n"
     ]
    }
   ],
   "source": [
    "!echo \"Compiling main.cpp...\"\n",
    "!g++ main.cpp -o main\n",
    "!echo \"Running main...\"\n",
    "! ./main"
   ]
  },
  {
   "cell_type": "code",
   "execution_count": null,
   "id": "3e9a962f",
   "metadata": {
    "vscode": {
     "languageId": "cpp"
    }
   },
   "outputs": [],
   "source": [
    "#include<iostream>\n",
    "// including vectors library\n",
    "#include<vector>\n",
    "using namespace std;\n",
    "\n",
    "int main() {\n",
    "    //initialized vector array with integers values\n",
    "    vector<int> numbers = {1, 2, 3, 4, 5};\n",
    "    // adding 6 to the vector array\n",
    "    numbers.push_back(6);\n",
    "    // looping over the vector array\n",
    "    for(int num : numbers) {\n",
    "        cout << num << \" \";\n",
    "    }\n",
    "    // accessing end vector elements\n",
    "    numbers.end();\n",
    "    // accessing beginning vector elements\n",
    "    numbers.begin();\n",
    "    // return first element or the one infront\n",
    "    numbers.front();\n",
    "    // return last element or the one in back\n",
    "    numbers.back();\n",
    "    // remove last element\n",
    "    numbers.pop_back();\n",
    "    // accessing index 0 vector elements also checks if this is in its bounds\n",
    "    numbers.at(0);\n",
    "    // changing index 2 vector elements with value 10\n",
    "    numbers[2] = 10;\n",
    "    // accessing size of vector elements\n",
    "    numbers.size();\n",
    "    // inserting 0 at index 3\n",
    "    numbers.insert(numbers.begin() + 3, 0);\n",
    "    // erasing element at index 1\n",
    "    numbers.erase(numbers.begin() + 1);\n",
    "    // clearing the vector\n",
    "    numbers.clear();\n",
    "    return 0;\n",
    "}\n",
    "/*\n",
    "Different ways to initialize vectors\n",
    "    vector<int> v1;  // empty\n",
    "    vector<int> v2(5);  // {0, 0, 0, 0, 0}\n",
    "    vector<int> v3(5, 42);  // {42, 42, 42, 42, 42}\n",
    "    vector<int> v4 = {1, 2, 3, 4, 5};  // {1, 2, 3, 4, 5}\n",
    "*/\n"
   ]
  },
  {
   "cell_type": "code",
   "execution_count": null,
   "id": "88f032f8",
   "metadata": {
    "vscode": {
     "languageId": "cpp"
    }
   },
   "outputs": [],
   "source": [
    "#include <iostream>\n",
    "#include <vector>\n",
    "#include <algorithm>\n",
    "\n",
    "int main() {\n",
    "\n",
    "    // 2D vector (grid) example\n",
    "    std::vector<std::vector<int>> grid = {\n",
    "        {1, 2, 3},\n",
    "        {4, 5, 6},\n",
    "        {7, 8, 9}\n",
    "    };\n",
    "\n",
    "    // Resize to 10x10 fill empty places with -1\n",
    "    grid.resize(10, std::vector<int>(10, -1));\n",
    "    for (auto &row : grid) {\n",
    "        row.resize(10, -1);\n",
    "    }\n",
    "\n",
    "    return 0;\n",
    "}"
   ]
  },
  {
   "cell_type": "code",
   "execution_count": null,
   "id": "8139b779",
   "metadata": {
    "vscode": {
     "languageId": "cpp"
    }
   },
   "outputs": [],
   "source": [
    "vector<vector<int>> grid = {\n",
    "    {1, 2, 3},\n",
    "    {4, 5, 6},\n",
    "    {7, 8, 9}\n",
    "}; \n",
    "grid[0][0] = 10;"
   ]
  },
  {
   "cell_type": "code",
   "execution_count": null,
   "id": "acc61b1d",
   "metadata": {
    "vscode": {
     "languageId": "cpp"
    }
   },
   "outputs": [],
   "source": [
    "grid.size();\n",
    "grid[0].size();"
   ]
  },
  {
   "cell_type": "code",
   "execution_count": null,
   "id": "f25faaa7",
   "metadata": {
    "vscode": {
     "languageId": "javascript"
    }
   },
   "outputs": [],
   "source": [
    "// tell us if the vector is empty or not returns 0\\1\n",
    "grid.empty(); // return 0\\1 "
   ]
  },
  {
   "cell_type": "code",
   "execution_count": null,
   "id": "1a4301fc",
   "metadata": {
    "vscode": {
     "languageId": "cpp"
    }
   },
   "outputs": [],
   "source": [
    "grid.resize(10, std::vector<int>(10, -1)); // Initialize a 10x10 grid with all values set to -1"
   ]
  },
  {
   "cell_type": "code",
   "execution_count": null,
   "id": "eb63a0ef",
   "metadata": {
    "vscode": {
     "languageId": "cpp"
    }
   },
   "outputs": [],
   "source": [
    "vector1.resize(10, -1); // Initialize a 1D vector with 10 elements, all set to -1"
   ]
  },
  {
   "cell_type": "markdown",
   "id": "56664409",
   "metadata": {},
   "source": [
    "<!-- ![C++ Logo](ISO_C++_Logo.svg.png) -->\n",
    "<img src=\"ISO_C++_Logo.svg.png\" width=\"200\">"
   ]
  },
  {
   "cell_type": "markdown",
   "id": "e50eac66",
   "metadata": {
    "vscode": {
     "languageId": "bat"
    }
   },
   "source": []
  }
 ],
 "metadata": {
  "kernelspec": {
   "display_name": "Python 3",
   "language": "python",
   "name": "python3"
  },
  "language_info": {
   "codemirror_mode": {
    "name": "ipython",
    "version": 3
   },
   "file_extension": ".py",
   "mimetype": "text/x-python",
   "name": "python",
   "nbconvert_exporter": "python",
   "pygments_lexer": "ipython3",
   "version": "3.13.7"
  }
 },
 "nbformat": 4,
 "nbformat_minor": 5
}
