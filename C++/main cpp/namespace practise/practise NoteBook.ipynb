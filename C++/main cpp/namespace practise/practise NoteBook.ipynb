{
 "cells": [
  {
   "cell_type": "markdown",
   "id": "8fd14896",
   "metadata": {},
   "source": [
    "# NameSpace Practise in C++"
   ]
  },
  {
   "cell_type": "markdown",
   "id": "a786a676",
   "metadata": {},
   "source": [
    "##### For Purpose Of Understanding NameSpace <br> And its Dynamic Use Practise <hr>"
   ]
  },
  {
   "cell_type": "markdown",
   "id": "82b57a49",
   "metadata": {},
   "source": [
    "#### Basic Namespace I Already Understand\n",
    "<hr><hr>"
   ]
  },
  {
   "cell_type": "markdown",
   "id": "63634613",
   "metadata": {},
   "source": [
    "without name space we repeat the use of std::"
   ]
  },
  {
   "cell_type": "code",
   "execution_count": 3,
   "id": "dff56e9d",
   "metadata": {},
   "outputs": [
    {
     "name": "stdout",
     "output_type": "stream",
     "text": [
      "Overwriting main.cpp\n"
     ]
    }
   ],
   "source": [
    "%%file main.cpp\n",
    "#include <iostream>\n",
    "int main () {\n",
    "    std::cout << \"Hello World\" << std::endl;\n",
    "    return 0;\n",
    "}"
   ]
  },
  {
   "cell_type": "code",
   "execution_count": 5,
   "id": "055982f0",
   "metadata": {},
   "outputs": [
    {
     "name": "stdout",
     "output_type": "stream",
     "text": [
      "Hello World\n"
     ]
    }
   ],
   "source": [
    "! ./main"
   ]
  },
  {
   "cell_type": "code",
   "execution_count": 4,
   "id": "b27a9831",
   "metadata": {},
   "outputs": [
    {
     "name": "stdout",
     "output_type": "stream",
     "text": [
      "Microsoft Windows [Version 10.0.26100.4946]\n",
      "(c) Microsoft Corporation. All rights reserved.\n",
      "\n",
      "d:\\Github\\Cpp-for-Beginners\\C++\\main cpp\\namespace practise>g++ main.cpp -o main\n"
     ]
    },
    {
     "name": "stdout",
     "output_type": "stream",
     "text": [
      "\n",
      "d:\\Github\\Cpp-for-Beginners\\C++\\main cpp\\namespace practise>"
     ]
    }
   ],
   "source": [
    "%%cmd   \n",
    "g++ main.cpp -o main"
   ]
  },
  {
   "cell_type": "markdown",
   "id": "da7976a1",
   "metadata": {},
   "source": [
    "VS with namespace code look much more readable and easier to write"
   ]
  },
  {
   "cell_type": "code",
   "execution_count": 6,
   "id": "46885f15",
   "metadata": {},
   "outputs": [
    {
     "name": "stdout",
     "output_type": "stream",
     "text": [
      "Overwriting main.cpp\n"
     ]
    }
   ],
   "source": [
    "%%file main.cpp\n",
    "#include <iostream>\n",
    "using namespace std;\n",
    "int main () {\n",
    "    cout << \"Hello World\" << endl;\n",
    "    return 0;\n",
    "}"
   ]
  },
  {
   "cell_type": "code",
   "execution_count": 8,
   "id": "eecda103",
   "metadata": {},
   "outputs": [
    {
     "name": "stdout",
     "output_type": "stream",
     "text": [
      "Hello World\n"
     ]
    }
   ],
   "source": [
    "! ./main"
   ]
  },
  {
   "cell_type": "code",
   "execution_count": 7,
   "id": "3f84491e",
   "metadata": {},
   "outputs": [
    {
     "name": "stdout",
     "output_type": "stream",
     "text": [
      "Microsoft Windows [Version 10.0.26100.4946]\n",
      "(c) Microsoft Corporation. All rights reserved.\n",
      "\n",
      "d:\\Github\\Cpp-for-Beginners\\C++\\main cpp\\namespace practise>g++ main.cpp -o main\n",
      "\n",
      "d:\\Github\\Cpp-for-Beginners\\C++\\main cpp\\namespace practise>"
     ]
    }
   ],
   "source": [
    "%%cmd\n",
    "g++ main.cpp -o main"
   ]
  },
  {
   "cell_type": "markdown",
   "id": "b213864f",
   "metadata": {},
   "source": [
    "<hr><hr>"
   ]
  }
 ],
 "metadata": {
  "kernelspec": {
   "display_name": "Python 3",
   "language": "python",
   "name": "python3"
  },
  "language_info": {
   "codemirror_mode": {
    "name": "ipython",
    "version": 3
   },
   "file_extension": ".py",
   "mimetype": "text/x-python",
   "name": "python",
   "nbconvert_exporter": "python",
   "pygments_lexer": "ipython3",
   "version": "3.13.0"
  }
 },
 "nbformat": 4,
 "nbformat_minor": 5
}
