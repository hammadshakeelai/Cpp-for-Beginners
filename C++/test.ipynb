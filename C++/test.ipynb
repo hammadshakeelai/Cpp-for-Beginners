{
 "cells": [
  {
   "cell_type": "code",
   "execution_count": 3,
   "metadata": {},
   "outputs": [
    {
     "name": "stdout",
     "output_type": "stream",
     "text": [
      "0\n",
      "1\n",
      "2\n",
      "3\n",
      "4\n",
      "5\n",
      "6\n"
     ]
    }
   ],
   "source": [
    "for i in range(7):\n",
    "    # startday=int(input(\"sd: \" ))\n",
    "    startday=i\n",
    "    presentdate=1\n",
    "    result = (startday + presentdate - 1)%7\n",
    "    print(result)"
   ]
  },
  {
   "cell_type": "code",
   "execution_count": null,
   "metadata": {},
   "outputs": [],
   "source": [
    "for i in range(11):\n",
    "    answer=1\n",
    "    for j in range(2,i+1):\n",
    "        answer*=j\n",
    "    print(f'factorial of {i} is {answer}')"
   ]
  },
  {
   "cell_type": "code",
   "execution_count": null,
   "metadata": {},
   "outputs": [],
   "source": [
    "mystr=\"\"\"Abdul Hameed, Abdul Moaiz Kashif, Abdul Wadood, Abdur Rehman Khalil, Abubakar Sadiq, Ahmad Faraz, Aizaz Ahmed Awan, Arbab Muhammad Azrak Khan, Areeba Ali, Aurshia Mudassar, Ayesha Nawaz Khan, Danial Amjad, Dureshahwar, Eshal Khan, Fusaila Aamir, Ghulam Jillani, Habiba Afridi, Hafsa Taj, Hammad Hussain, Hamza Noor, Hassan Khan, Hina Zahra, Hoorain Saud, Ibad Ur Rahman, Iqra Rehman, Kashmala Khan, Lubaba Bint E Noor, Mahmood Ahmad Sajjad, Malaika Malik, Malaika Tajamul, Mansoor Ahmad Khan, Mohammad Saad, Mohammad Umar Saeed, Mughira Ijaz, Muhammad Ahmad Atif, Muhammad Anas Afridi, Muhammad Faiq Shah, Muhammad Hammad Shakeel, Muhammad Ilyas, Muhammad Rayyan, Muhammad Sameer, Muhammad Yousaf, Naveed Khan, Numan Ali, Rahmat Ullah Afridi, Sadiq Ullah, Sikander Khaleel, Syeda Shandana Shah, Syed Hissam Ul Mulk, Syed Soban Ahmed Shah, Yahya Raees Khan, Zarmeen Abdullah\"\"\"\n",
    "mystr_list=mystr.split(\", \")\n",
    "for i in mystr_list:\n",
    "    print(i)"
   ]
  },
  {
   "cell_type": "code",
   "execution_count": null,
   "metadata": {},
   "outputs": [
    {
     "name": "stdout",
     "output_type": "stream",
     "text": [
      "Abdul Hameed\n",
      "Abdul Moaiz Kashif\n",
      "Abdul Wadood\n",
      "Abdur Rehman Khalil\n",
      "Abubakar Sadiq\n",
      "Ahmad Faraz\n",
      "Aizaz Ahmed Awan\n",
      "Arbab Muhammad Azrak Khan\n",
      "Areeba Ali\n",
      "Aurshia Mudassar\n",
      "Ayesha Nawaz Khan\n",
      "Danial Amjad\n",
      "Dureshahwar\n",
      "Eshal Khan\n",
      "Fusaila Aamir\n",
      "Ghulam Jillani\n",
      "Habiba Afridi\n",
      "Hafsa Taj\n",
      "Hammad Hussain\n",
      "Hamza Noor\n",
      "Hassan Khan\n",
      "Hina Zahra\n",
      "Hoorain Saud\n",
      "Ibad Ur Rahman\n",
      "Iqra Rehman\n",
      "Kashmala Khan\n",
      "Lubaba Bint E Noor\n",
      "[]\n"
     ]
    }
   ],
   "source": [
    "mystr=\"\"\"Abdul Hameed, Abdul Moaiz Kashif, Abdul Wadood, Abdur Rehman Khalil, Abubakar Sadiq, Ahmad Faraz, Aizaz Ahmed Awan, Arbab Muhammad Azrak Khan, Areeba Ali, Aurshia Mudassar, Ayesha Nawaz Khan, Danial Amjad, Dureshahwar, Eshal Khan, Fusaila Aamir, Ghulam Jillani, Habiba Afridi, Hafsa Taj, Hammad Hussain, Hamza Noor, Hassan Khan, Hina Zahra, Hoorain Saud, Ibad Ur Rahman, Iqra Rehman, Kashmala Khan, Lubaba Bint E Noor, Mahmood Ahmad Sajjad, Malaika Malik, Malaika Tajamul, Mansoor Ahmad Khan, Mohammad Saad, Mohammad Umar Saeed, Mughira Ijaz, Muhammad Ahmad Atif, Muhammad Anas Afridi, Muhammad Faiq Shah, Muhammad Hammad Shakeel, Muhammad Ilyas, Muhammad Rayyan, Muhammad Sameer, Muhammad Yousaf, Naveed Khan, Numan Ali, Rahmat Ullah Afridi, Sadiq Ullah, Sikander Khaleel, Syeda Shandana Shah, Syed Hissam Ul Mulk, Syed Soban Ahmed Shah, Yahya Raees Khan, Zarmeen Abdullah\"\"\""
   ]
  },
  {
   "cell_type": "code",
   "execution_count": null,
   "metadata": {},
   "outputs": [],
   "source": []
  },
  {
   "cell_type": "code",
   "execution_count": null,
   "metadata": {},
   "outputs": [],
   "source": [
    "for(int i=0;i<m;i++){\n",
    "    for(int j=0;j<n;j++){\n",
    "        for(int k=0;k<o;k++){\n",
    "            for(int l=0;l<p;l++){\n",
    "                \n",
    "            }\n",
    "        }\n",
    "    }\n",
    "}"
   ]
  },
  {
   "cell_type": "code",
   "execution_count": 5,
   "metadata": {},
   "outputs": [
    {
     "name": "stdout",
     "output_type": "stream",
     "text": [
      "doremon\n",
      "doremon\n",
      "doremon\n",
      "doremon\n",
      "doremon\n",
      "doremon\n",
      "doremon\n",
      "doremon\n",
      "doremon\n"
     ]
    }
   ],
   "source": [
    "for i in range(9):{\n",
    "    print(\"doremon\")\n",
    "}"
   ]
  }
 ],
 "metadata": {
  "kernelspec": {
   "display_name": "Python 3",
   "language": "python",
   "name": "python3"
  },
  "language_info": {
   "codemirror_mode": {
    "name": "ipython",
    "version": 3
   },
   "file_extension": ".py",
   "mimetype": "text/x-python",
   "name": "python",
   "nbconvert_exporter": "python",
   "pygments_lexer": "ipython3",
   "version": "3.13.7"
  }
 },
 "nbformat": 4,
 "nbformat_minor": 2
}
