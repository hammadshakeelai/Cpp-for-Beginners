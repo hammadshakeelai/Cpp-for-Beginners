{
 "cells": [
  {
   "cell_type": "code",
   "execution_count": 5,
   "id": "4bbdd5ca",
   "metadata": {},
   "outputs": [
    {
     "name": "stdout",
     "output_type": "stream",
     "text": [
      "Overwriting _.cpp\n"
     ]
    }
   ],
   "source": [
    "%%file _.cpp\n",
    "\n",
    "#include <iostream>\n",
    "\n",
    "using namespace std;\n",
    "\n",
    "int main() {\n",
    "    cout << \"Hello, World!\" << endl;\n",
    "    return 0;\n",
    "}\n"
   ]
  },
  {
   "cell_type": "code",
   "execution_count": 7,
   "id": "ce45cd4f",
   "metadata": {},
   "outputs": [
    {
     "name": "stdout",
     "output_type": "stream",
     "text": [
      "Hello, World!\n"
     ]
    }
   ],
   "source": [
    "! ./_.exe"
   ]
  },
  {
   "cell_type": "code",
   "execution_count": 6,
   "id": "1eb9e5ef",
   "metadata": {},
   "outputs": [
    {
     "name": "stdout",
     "output_type": "stream",
     "text": [
      "Microsoft Windows [Version 10.0.26100.4946]\n",
      "(c) Microsoft Corporation. All rights reserved.\n",
      "\n",
      "d:\\Github\\Cpp-for-Beginners>g++ _.cpp -o _.exe\n"
     ]
    },
    {
     "name": "stdout",
     "output_type": "stream",
     "text": [
      "\n",
      "d:\\Github\\Cpp-for-Beginners>"
     ]
    }
   ],
   "source": [
    "%%cmd \n",
    "g++ _.cpp -o _.exe"
   ]
  },
  {
   "cell_type": "code",
   "execution_count": null,
   "id": "c04879aa",
   "metadata": {},
   "outputs": [],
   "source": [
    "// only works in linux/mac xues kernels for jupyter\n",
    "int arr[5];\n",
    "for (int i = 0; i < 5; i++) {\n",
    "    cout << \"Enter element \" << i + 1 << \": \";\n",
    "    cin >> arr[i] ;\n",
    "}\n",
    "cout << \"You entered: \";\n",
    "for (int i = 0; i < 5; i++) {\n",
    "    cout << arr[i] << \" \";\n",
    "}\n",
    "cout << endl;"
   ]
  },
  {
   "cell_type": "markdown",
   "id": "a02e2258",
   "metadata": {},
   "source": [
    "from string to int program"
   ]
  },
  {
   "cell_type": "code",
   "execution_count": 60,
   "id": "59a09022",
   "metadata": {},
   "outputs": [
    {
     "name": "stdout",
     "output_type": "stream",
     "text": [
      "Overwriting _.cpp\n"
     ]
    }
   ],
   "source": [
    "%%file _.cpp\n",
    "#include<iostream>\n",
    "using namespace std;\n",
    "int main(){\n",
    "    string number = \"42456789\";\n",
    "    // int num = stoi(number); // The number is: 42\n",
    "    int num = 0;\n",
    "    for (char ch : number){\n",
    "        num *= 10;\n",
    "        num += ( ch -48);\n",
    "    }\n",
    "    cout <<num << endl;\n",
    "    // cout << \"(48 == '0') === \"  << (48 == '0') << endl; // (48 == '0') === 1\n",
    "    return 0;\n",
    "}"
   ]
  },
  {
   "cell_type": "code",
   "execution_count": 62,
   "id": "9cd37edf",
   "metadata": {},
   "outputs": [
    {
     "name": "stdout",
     "output_type": "stream",
     "text": [
      "42456789\n"
     ]
    }
   ],
   "source": [
    "! ./_.exe"
   ]
  },
  {
   "cell_type": "code",
   "execution_count": 61,
   "id": "e2322786",
   "metadata": {},
   "outputs": [
    {
     "name": "stdout",
     "output_type": "stream",
     "text": [
      "Microsoft Windows [Version 10.0.26100.4946]\n",
      "(c) Microsoft Corporation. All rights reserved.\n",
      "\n",
      "d:\\Github\\Cpp-for-Beginners>g++ _.cpp -g -o _.exe\n"
     ]
    },
    {
     "name": "stdout",
     "output_type": "stream",
     "text": [
      "\n",
      "d:\\Github\\Cpp-for-Beginners>"
     ]
    }
   ],
   "source": [
    "%%cmd\n",
    "g++ _.cpp -g -o _.exe"
   ]
  }
 ],
 "metadata": {
  "kernelspec": {
   "display_name": "Python 3",
   "language": "python",
   "name": "python3"
  },
  "language_info": {
   "codemirror_mode": {
    "name": "ipython",
    "version": 3
   },
   "file_extension": ".py",
   "mimetype": "text/x-python",
   "name": "python",
   "nbconvert_exporter": "python",
   "pygments_lexer": "ipython3",
   "version": "3.13.0"
  }
 },
 "nbformat": 4,
 "nbformat_minor": 5
}
