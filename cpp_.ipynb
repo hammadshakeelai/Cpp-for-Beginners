{
 "cells": [
  {
   "cell_type": "code",
   "execution_count": null,
   "id": "4bbdd5ca",
   "metadata": {},
   "outputs": [],
   "source": [
    "#include <iostream>\n",
    "\n",
    "using namespace std;\n",
    "\n",
    "int main() {\n",
    "    cout << \"Hello, World!\" << endl;\n",
    "    return 0;\n",
    "}\n",
    "main();"
   ]
  },
  {
   "cell_type": "code",
   "execution_count": null,
   "id": "c04879aa",
   "metadata": {},
   "outputs": [],
   "source": [
    "int arr[5];\n",
    "for (int i = 0; i < 5; i++) {\n",
    "    cout << \"Enter element \" << i + 1 << \": \";\n",
    "    cin >> arr[i] ;\n",
    "}\n",
    "cout << \"You entered: \";\n",
    "for (int i = 0; i < 5; i++) {\n",
    "    cout << arr[i] << \" \";\n",
    "}\n",
    "cout << endl;"
   ]
  }
 ],
 "metadata": {
  "language_info": {
   "name": "python"
  }
 },
 "nbformat": 4,
 "nbformat_minor": 5
}
