{
 "cells": [
  {
   "cell_type": "markdown",
   "id": "d77810d8",
   "metadata": {},
   "source": [
    "<hr>\n",
    "\n",
    "#### Testing this Method of Writing C++ in Jupyter NoteBook \n",
    "Inspired to Document C++ Output by writing , compiling and running code in same document."
   ]
  },
  {
   "cell_type": "code",
   "execution_count": 25,
   "id": "4bbdd5ca",
   "metadata": {},
   "outputs": [
    {
     "name": "stdout",
     "output_type": "stream",
     "text": [
      "Overwriting _.cpp\n"
     ]
    }
   ],
   "source": [
    "%%file _.cpp\n",
    "\n",
    "#include <iostream>\n",
    "\n",
    "using namespace std;\n",
    "\n",
    "int main() {\n",
    "    cout << \"Hello, World!\" << endl;\n",
    "    return 0;\n",
    "}\n"
   ]
  },
  {
   "cell_type": "code",
   "execution_count": null,
   "id": "a25c519b",
   "metadata": {},
   "outputs": [],
   "source": [
    "%%cmd\n",
    "g++ _.cpp -o _.exe"
   ]
  },
  {
   "cell_type": "code",
   "execution_count": 27,
   "id": "ce45cd4f",
   "metadata": {},
   "outputs": [
    {
     "name": "stdout",
     "output_type": "stream",
     "text": [
      "Hello, World!\n"
     ]
    }
   ],
   "source": [
    "! ./_.exe"
   ]
  },
  {
   "cell_type": "markdown",
   "id": "cb1c9ed1",
   "metadata": {},
   "source": [
    "<hr>"
   ]
  },
  {
   "cell_type": "markdown",
   "id": "a02e2258",
   "metadata": {},
   "source": [
    "from string to int program"
   ]
  },
  {
   "cell_type": "code",
   "execution_count": 9,
   "id": "59a09022",
   "metadata": {},
   "outputs": [
    {
     "name": "stdout",
     "output_type": "stream",
     "text": [
      "Overwriting _.cpp\n"
     ]
    }
   ],
   "source": [
    "%%file _.cpp\n",
    "#include<iostream>\n",
    "using namespace std;\n",
    "int main(){\n",
    "    string number = \"42456789\";\n",
    "    // int num = stoi(number); // The number is: 42\n",
    "    int num = 0;\n",
    "    for (char ch : number){\n",
    "        num *= 10;\n",
    "        num += ( ch -48);\n",
    "    }\n",
    "    cout <<num << endl;\n",
    "    // cout << \"(48 == '0') === \"  << (48 == '0') << endl; // (48 == '0') === 1\n",
    "    return 0;\n",
    "}"
   ]
  },
  {
   "cell_type": "code",
   "execution_count": null,
   "id": "6ea8954e",
   "metadata": {},
   "outputs": [],
   "source": [
    "%%cmd \n",
    "g++ _.cpp -o _.exe"
   ]
  },
  {
   "cell_type": "code",
   "execution_count": 11,
   "id": "9cd37edf",
   "metadata": {},
   "outputs": [
    {
     "name": "stdout",
     "output_type": "stream",
     "text": [
      "42456789\n"
     ]
    }
   ],
   "source": [
    "! ./_.exe"
   ]
  },
  {
   "cell_type": "markdown",
   "id": "7ddc46a8",
   "metadata": {},
   "source": [
    "### error statement print"
   ]
  },
  {
   "cell_type": "code",
   "execution_count": 19,
   "id": "647fcc86",
   "metadata": {},
   "outputs": [
    {
     "name": "stdout",
     "output_type": "stream",
     "text": [
      "Overwriting _.cpp\n"
     ]
    }
   ],
   "source": [
    "%%file _.cpp\n",
    "#include <iostream>\n",
    "int main() {\n",
    "    std::cerr << \"error world\" << std::endl; // error world\n",
    "    return 0;\n",
    "}"
   ]
  },
  {
   "cell_type": "code",
   "execution_count": null,
   "id": "5e4f3941",
   "metadata": {},
   "outputs": [],
   "source": [
    "%%cmd\n",
    "g++ _.cpp -g -o _.exe"
   ]
  },
  {
   "cell_type": "code",
   "execution_count": 21,
   "id": "97b922c8",
   "metadata": {},
   "outputs": [
    {
     "name": "stderr",
     "output_type": "stream",
     "text": [
      "error world\n"
     ]
    }
   ],
   "source": [
    "! ./_.exe"
   ]
  },
  {
   "cell_type": "markdown",
   "id": "5efa28b6",
   "metadata": {},
   "source": [
    "<hr>"
   ]
  },
  {
   "cell_type": "markdown",
   "id": "2e9373f1",
   "metadata": {},
   "source": [
    "# Boiler Plate"
   ]
  },
  {
   "cell_type": "code",
   "execution_count": null,
   "id": "01e464b2",
   "metadata": {},
   "outputs": [],
   "source": [
    "%%file _.cpp\n",
    "#include <iostream>\n",
    "int main() {\n",
    "    \n",
    "    return 0;\n",
    "}"
   ]
  },
  {
   "cell_type": "code",
   "execution_count": null,
   "id": "3f0c97a7",
   "metadata": {},
   "outputs": [],
   "source": [
    "%%cmd\n",
    "g++ _.cpp -o _.exe"
   ]
  },
  {
   "cell_type": "code",
   "execution_count": null,
   "id": "737c7dcc",
   "metadata": {},
   "outputs": [],
   "source": [
    "! ./_.exe"
   ]
  },
  {
   "cell_type": "markdown",
   "id": "8f0af4f7",
   "metadata": {},
   "source": [
    "<hr>"
   ]
  }
 ],
 "metadata": {
  "kernelspec": {
   "display_name": "Python 3",
   "language": "python",
   "name": "python3"
  },
  "language_info": {
   "codemirror_mode": {
    "name": "ipython",
    "version": 3
   },
   "file_extension": ".py",
   "mimetype": "text/x-python",
   "name": "python",
   "nbconvert_exporter": "python",
   "pygments_lexer": "ipython3",
   "version": "3.13.0"
  }
 },
 "nbformat": 4,
 "nbformat_minor": 5
}
